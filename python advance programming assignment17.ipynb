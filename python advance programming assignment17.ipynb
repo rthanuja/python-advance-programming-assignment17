{
 "cells": [
  {
   "cell_type": "code",
   "execution_count": 1,
   "id": "44810b9f",
   "metadata": {},
   "outputs": [],
   "source": [
    "#1. Create a function that transposes a 2D matrix.\n",
    "def transpose(l):\n",
    "    r=[]\n",
    "    for i in range(len(l[0])):\n",
    "        s=[]\n",
    "        for j in range(len(l)):\n",
    "            s.append(l[j][i])\n",
    "        r.append(s)\n",
    "    \n",
    "    return r\n",
    "        "
   ]
  },
  {
   "cell_type": "code",
   "execution_count": 2,
   "id": "228d13e8",
   "metadata": {},
   "outputs": [
    {
     "data": {
      "text/plain": [
       "[[1, 2, 3], [1, 2, 3], [1, 2, 3]]"
      ]
     },
     "execution_count": 2,
     "metadata": {},
     "output_type": "execute_result"
    }
   ],
   "source": [
    "transpose([\n",
    "[1, 1, 1],\n",
    "[2, 2, 2],\n",
    "[3, 3, 3]\n",
    "])"
   ]
  },
  {
   "cell_type": "code",
   "execution_count": 3,
   "id": "08bd1ede",
   "metadata": {},
   "outputs": [
    {
     "data": {
      "text/plain": [
       "[[5, 6, 9], [5, 7, 1]]"
      ]
     },
     "execution_count": 3,
     "metadata": {},
     "output_type": "execute_result"
    }
   ],
   "source": [
    "transpose([\n",
    "[5, 5],\n",
    "[6, 7],\n",
    "[9, 1]\n",
    "])"
   ]
  },
  {
   "cell_type": "code",
   "execution_count": 4,
   "id": "caf5f4dd",
   "metadata": {},
   "outputs": [],
   "source": [
    "'''2. Create a function that determines whether a string is a valid hex code.A hex code must begin with a pound key #\n",
    "and is exactly 6 characters in length. Each character must be a digit from 0-9 or an alphabetic character\n",
    "from A-F. All alphabetic characters may be uppercase or lowercase.'''\n",
    "def is_valid_hex_code(s):\n",
    "    l=\"abcdefABCDEF\"\n",
    "    if s[0]!=\"#\" or len(s)!=7 or (s.isupper()==False and s.islower()==False):\n",
    "        return False\n",
    "    else:\n",
    "        for i in s[1:]:\n",
    "            if i in l or i.isdigit():\n",
    "                continue\n",
    "            else:\n",
    "                return False\n",
    "    return True\n",
    "    "
   ]
  },
  {
   "cell_type": "code",
   "execution_count": 5,
   "id": "e1f6c1d0",
   "metadata": {},
   "outputs": [
    {
     "data": {
      "text/plain": [
       "True"
      ]
     },
     "execution_count": 5,
     "metadata": {},
     "output_type": "execute_result"
    }
   ],
   "source": [
    "is_valid_hex_code(\"#CD5C5C\") "
   ]
  },
  {
   "cell_type": "code",
   "execution_count": 6,
   "id": "ee385dbf",
   "metadata": {},
   "outputs": [
    {
     "data": {
      "text/plain": [
       "True"
      ]
     },
     "execution_count": 6,
     "metadata": {},
     "output_type": "execute_result"
    }
   ],
   "source": [
    "is_valid_hex_code(\"#EAECEE\") "
   ]
  },
  {
   "cell_type": "code",
   "execution_count": 7,
   "id": "2bc7291b",
   "metadata": {},
   "outputs": [
    {
     "data": {
      "text/plain": [
       "True"
      ]
     },
     "execution_count": 7,
     "metadata": {},
     "output_type": "execute_result"
    }
   ],
   "source": [
    "is_valid_hex_code(\"#eaecee\") "
   ]
  },
  {
   "cell_type": "code",
   "execution_count": 8,
   "id": "bcbdfa83",
   "metadata": {},
   "outputs": [
    {
     "data": {
      "text/plain": [
       "False"
      ]
     },
     "execution_count": 8,
     "metadata": {},
     "output_type": "execute_result"
    }
   ],
   "source": [
    "is_valid_hex_code(\"#CD5C58C\") "
   ]
  },
  {
   "cell_type": "code",
   "execution_count": 9,
   "id": "5cf112a8",
   "metadata": {},
   "outputs": [
    {
     "data": {
      "text/plain": [
       "False"
      ]
     },
     "execution_count": 9,
     "metadata": {},
     "output_type": "execute_result"
    }
   ],
   "source": [
    "is_valid_hex_code(\"#CD5C5Z\") "
   ]
  },
  {
   "cell_type": "code",
   "execution_count": 10,
   "id": "e1271ad7",
   "metadata": {},
   "outputs": [
    {
     "data": {
      "text/plain": [
       "False"
      ]
     },
     "execution_count": 10,
     "metadata": {},
     "output_type": "execute_result"
    }
   ],
   "source": [
    "is_valid_hex_code(\"#CD5C&C\") "
   ]
  },
  {
   "cell_type": "code",
   "execution_count": 11,
   "id": "27b5ec65",
   "metadata": {},
   "outputs": [
    {
     "data": {
      "text/plain": [
       "False"
      ]
     },
     "execution_count": 11,
     "metadata": {},
     "output_type": "execute_result"
    }
   ],
   "source": [
    "is_valid_hex_code(\"CD5C5C\") "
   ]
  },
  {
   "cell_type": "code",
   "execution_count": 12,
   "id": "116b8573",
   "metadata": {},
   "outputs": [],
   "source": [
    "'''3. Given a list of math equations (given as strings), return the percentage of correct answers as a string. Round to \n",
    "the nearest whole number.'''\n",
    "import re\n",
    "import math\n",
    "def mark_maths(l):\n",
    "    n=0\n",
    "    l=\" \".join(l)\n",
    "    e=re.findall(r'[+,\\-]*\\d+[+,\\-,*,//,%][+\\-]*\\d+',l)\n",
    "    l=re.sub(r'\\s',\"@\",l)\n",
    "    l=re.sub(r'=',\" \",l)\n",
    "    r=re.findall(r'\\s[+\\-]*\\d+',l)\n",
    "    print(e,r)\n",
    "    for i in range(len(e)):\n",
    "        if eval(e[i])==int(r[i]):\n",
    "            n+=1\n",
    "    q=math.ceil((n*100)/len(e))\n",
    "    return str(q)+\"%\""
   ]
  },
  {
   "cell_type": "code",
   "execution_count": 13,
   "id": "64ac89ab",
   "metadata": {},
   "outputs": [
    {
     "name": "stdout",
     "output_type": "stream",
     "text": [
      "['2+2', '3+2', '10-3', '5+5'] [' 4', ' 5', ' 3', ' 10']\n"
     ]
    },
    {
     "data": {
      "text/plain": [
       "'75%'"
      ]
     },
     "execution_count": 13,
     "metadata": {},
     "output_type": "execute_result"
    }
   ],
   "source": [
    "mark_maths([\"2+2=4\", \"3+2=5\", \"10-3=3\", \"5+5=10\"]) "
   ]
  },
  {
   "cell_type": "code",
   "execution_count": 14,
   "id": "fa744dc0",
   "metadata": {},
   "outputs": [
    {
     "name": "stdout",
     "output_type": "stream",
     "text": [
      "['1-2'] [' -2']\n"
     ]
    },
    {
     "data": {
      "text/plain": [
       "'0%'"
      ]
     },
     "execution_count": 14,
     "metadata": {},
     "output_type": "execute_result"
    }
   ],
   "source": [
    "mark_maths([\"1-2=-2\"])"
   ]
  },
  {
   "cell_type": "code",
   "execution_count": 15,
   "id": "a08a5688",
   "metadata": {},
   "outputs": [
    {
     "name": "stdout",
     "output_type": "stream",
     "text": [
      "['2+3', '4+4', '3-1'] [' 5', ' 9', ' 2']\n"
     ]
    },
    {
     "data": {
      "text/plain": [
       "'67%'"
      ]
     },
     "execution_count": 15,
     "metadata": {},
     "output_type": "execute_result"
    }
   ],
   "source": [
    "mark_maths([\"2+3=5\", \"4+4=9\", \"3-1=2\"])"
   ]
  },
  {
   "cell_type": "code",
   "execution_count": 16,
   "id": "acb0403a",
   "metadata": {},
   "outputs": [],
   "source": [
    "'''4. There are two players, Alice and Bob, each with a 3-by-3 grid. A referee tells Alice to fill out one particular row in \n",
    "the grid (say the second row) by putting either a 1 or a 0 in each box, such that the sum of the numbers in that\n",
    "row is odd. The referee tells Bob to fill out one column in the grid (say the first column) by putting either a 1 or \n",
    "a 0 in each box, such that the sum of the numbers in that column is even.Alice and Bob win the game if Alice’s numbers\n",
    "give an odd sum, Bob’s give an even sum, and (most important) they’ve each written down the same number in the one square\n",
    "where their row and column intersect.'''\n",
    "def magic_square_game(a,b):\n",
    "    r=a[0]\n",
    "    c=b[0]\n",
    "    if a[1][c-1]==b[1][r-1]:\n",
    "        return True\n",
    "    return False"
   ]
  },
  {
   "cell_type": "code",
   "execution_count": 17,
   "id": "e6336982",
   "metadata": {},
   "outputs": [
    {
     "data": {
      "text/plain": [
       "False"
      ]
     },
     "execution_count": 17,
     "metadata": {},
     "output_type": "execute_result"
    }
   ],
   "source": [
    "magic_square_game([2, \"100\"], [1, \"101\"]) "
   ]
  },
  {
   "cell_type": "code",
   "execution_count": 18,
   "id": "0cf6b415",
   "metadata": {},
   "outputs": [
    {
     "data": {
      "text/plain": [
       "True"
      ]
     },
     "execution_count": 18,
     "metadata": {},
     "output_type": "execute_result"
    }
   ],
   "source": [
    "magic_square_game([2, \"001\"], [1, \"101\"]) "
   ]
  },
  {
   "cell_type": "code",
   "execution_count": 19,
   "id": "19b22309",
   "metadata": {},
   "outputs": [
    {
     "data": {
      "text/plain": [
       "True"
      ]
     },
     "execution_count": 19,
     "metadata": {},
     "output_type": "execute_result"
    }
   ],
   "source": [
    "magic_square_game([3, \"111\"], [2, \"011\"]) "
   ]
  },
  {
   "cell_type": "code",
   "execution_count": 20,
   "id": "456bba40",
   "metadata": {},
   "outputs": [
    {
     "data": {
      "text/plain": [
       "False"
      ]
     },
     "execution_count": 20,
     "metadata": {},
     "output_type": "execute_result"
    }
   ],
   "source": [
    "magic_square_game([1, \"010\"], [3, \"101\"]) "
   ]
  },
  {
   "cell_type": "code",
   "execution_count": 21,
   "id": "249324b7",
   "metadata": {},
   "outputs": [],
   "source": [
    "'''5. From point A, an object is moving towards point B at constant velocity va (in km/hr). From point B, another object\n",
    "is moving towards point A at constant velocity vb (in km/hr). Knowing this and the distance between point A and B (in km),\n",
    "write a function that returns how much time passes until both objects meet.Format the output like this:\"2h 23min 34s\"'''\n",
    "def lets_meet(d,va,vb):\n",
    "    t=d/(va+vb)\n",
    "    m=(t-int(t))*60\n",
    "    s=(m-int(m))*60\n",
    "    r=\"\"\n",
    "    r+=str(int(t))+\"h\"+\" \"+str(int(m))+\"min\"+\" \"+str(int(s))+\"s\"\n",
    "    return r\n",
    "      "
   ]
  },
  {
   "cell_type": "code",
   "execution_count": 22,
   "id": "7dfd57ed",
   "metadata": {},
   "outputs": [
    {
     "data": {
      "text/plain": [
       "'2h 30min 0s'"
      ]
     },
     "execution_count": 22,
     "metadata": {},
     "output_type": "execute_result"
    }
   ],
   "source": [
    "lets_meet(100,10,30)"
   ]
  },
  {
   "cell_type": "code",
   "execution_count": 23,
   "id": "ffecd92b",
   "metadata": {},
   "outputs": [
    {
     "data": {
      "text/plain": [
       "'1h 52min 0s'"
      ]
     },
     "execution_count": 23,
     "metadata": {},
     "output_type": "execute_result"
    }
   ],
   "source": [
    "lets_meet(280, 70, 80)"
   ]
  },
  {
   "cell_type": "code",
   "execution_count": 24,
   "id": "f3607fc9",
   "metadata": {},
   "outputs": [
    {
     "data": {
      "text/plain": [
       "'0h 38min 34s'"
      ]
     },
     "execution_count": 24,
     "metadata": {},
     "output_type": "execute_result"
    }
   ],
   "source": [
    "lets_meet(90, 75, 65)"
   ]
  }
 ],
 "metadata": {
  "kernelspec": {
   "display_name": "Python 3 (ipykernel)",
   "language": "python",
   "name": "python3"
  },
  "language_info": {
   "codemirror_mode": {
    "name": "ipython",
    "version": 3
   },
   "file_extension": ".py",
   "mimetype": "text/x-python",
   "name": "python",
   "nbconvert_exporter": "python",
   "pygments_lexer": "ipython3",
   "version": "3.10.9"
  }
 },
 "nbformat": 4,
 "nbformat_minor": 5
}
